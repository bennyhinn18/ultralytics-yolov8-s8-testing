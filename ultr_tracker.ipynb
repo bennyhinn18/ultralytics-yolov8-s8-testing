{
 "cells": [
  {
   "cell_type": "code",
   "execution_count": null,
   "id": "e1d72873-092f-41a2-938e-9908e9e5d386",
   "metadata": {
    "editable": true,
    "slideshow": {
     "slide_type": ""
    },
    "tags": []
   },
   "outputs": [],
   "source": [
    "import sys\n",
    "print(sys.prefix)"
   ]
  },
  {
   "cell_type": "code",
   "execution_count": null,
   "id": "176e77a5-ee19-46e8-bbda-6394dba5949d",
   "metadata": {},
   "outputs": [],
   "source": [
    "import torch\n",
    "torch.cuda.is_available()"
   ]
  },
  {
   "cell_type": "code",
   "execution_count": null,
   "id": "ffcc3bd7-ff4a-4302-9ec7-bbdbfe385d4b",
   "metadata": {},
   "outputs": [],
   "source": [
    "torch.cuda.get_device_name(0)"
   ]
  },
  {
   "cell_type": "code",
   "execution_count": null,
   "id": "f84006f0-f30d-458e-8b2a-d8e3701e2068",
   "metadata": {},
   "outputs": [],
   "source": [
    "torch.cuda.current_device()"
   ]
  },
  {
   "cell_type": "code",
   "execution_count": null,
   "id": "2ce03c45-8c60-49d7-a26f-8be750ab23fe",
   "metadata": {},
   "outputs": [],
   "source": [
    "#Model training using Ultralytics YOLOv8\n",
    "from ultralytics import YOLO"
   ]
  },
  {
   "cell_type": "code",
   "execution_count": null,
   "id": "450b1d6c-a1c7-4724-98fa-5505c097b521",
   "metadata": {},
   "outputs": [],
   "source": [
    "model = YOLO('yolo8x-s8.pt')  # load a custom model"
   ]
  },
  {
   "cell_type": "markdown",
   "id": "d9a5b6c5-1f06-4446-bd8d-1eb6093cfc36",
   "metadata": {},
   "source": [
    "### This is used to run models for tracking real-time"
   ]
  },
  {
   "cell_type": "code",
   "execution_count": null,
   "id": "a4032382-37dc-4334-a0cd-d12ade15eb01",
   "metadata": {},
   "outputs": [],
   "source": [
    "results = model.track(source=\"https://youtu.be/5X6USA1cxSE?si=s51DKdFcIk7kOmvq\", show=True, tracker=\"bytetrack.yaml\")"
   ]
  },
  {
   "cell_type": "code",
   "execution_count": null,
   "id": "5a693650-9600-4511-850f-f918e92bb4d2",
   "metadata": {},
   "outputs": [],
   "source": []
  }
 ],
 "metadata": {
  "kernelspec": {
   "display_name": "testing-pytorch-ultr-v8",
   "language": "python",
   "name": "testing-pytorch-ultr-v8"
  },
  "language_info": {
   "codemirror_mode": {
    "name": "ipython",
    "version": 3
   },
   "file_extension": ".py",
   "mimetype": "text/x-python",
   "name": "python",
   "nbconvert_exporter": "python",
   "pygments_lexer": "ipython3",
   "version": "3.10.11"
  }
 },
 "nbformat": 4,
 "nbformat_minor": 5
}
